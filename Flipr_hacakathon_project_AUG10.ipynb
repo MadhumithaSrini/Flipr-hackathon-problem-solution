{
 "cells": [
  {
   "cell_type": "code",
   "execution_count": 1,
   "metadata": {},
   "outputs": [],
   "source": [
    "#importing all the packages \n",
    "import pandas as pd\n",
    "import numpy as np\n",
    "import matplotlib.pyplot as plt\n",
    "import seaborn as sns\n",
    "import warnings\n",
    "warnings.filterwarnings('ignore')\n",
    "%matplotlib inline"
   ]
  },
  {
   "cell_type": "code",
   "execution_count": 2,
   "metadata": {
    "scrolled": true
   },
   "outputs": [
    {
     "data": {
      "text/plain": [
       "Index(['Stock Index', 'Index', 'Industry', 'VWAP', 'General Index', 'NAV',\n",
       "       'P/E Ratio', 'Volumes Traded', 'Inventory Turnover',\n",
       "       'Covid Impact (Beta)', 'Tracking Error', 'Dollar Exchange Rate',\n",
       "       'Put-Call Ratio', 'P/B Ratio', 'Stock Price'],\n",
       "      dtype='object')"
      ]
     },
     "execution_count": 2,
     "metadata": {},
     "output_type": "execute_result"
    }
   ],
   "source": [
    "#reading the csv file and finding out the names of the columns\n",
    "df = pd.read_csv(\"C:/Users/madhumitha/Downloads/TrainDatasetStockPrice.csv\")\n",
    "df.columns"
   ]
  },
  {
   "cell_type": "code",
   "execution_count": 3,
   "metadata": {},
   "outputs": [
    {
     "data": {
      "text/html": [
       "<div>\n",
       "<style scoped>\n",
       "    .dataframe tbody tr th:only-of-type {\n",
       "        vertical-align: middle;\n",
       "    }\n",
       "\n",
       "    .dataframe tbody tr th {\n",
       "        vertical-align: top;\n",
       "    }\n",
       "\n",
       "    .dataframe thead th {\n",
       "        text-align: right;\n",
       "    }\n",
       "</style>\n",
       "<table border=\"1\" class=\"dataframe\">\n",
       "  <thead>\n",
       "    <tr style=\"text-align: right;\">\n",
       "      <th></th>\n",
       "      <th>Stock Index</th>\n",
       "      <th>Index</th>\n",
       "      <th>Industry</th>\n",
       "      <th>VWAP</th>\n",
       "      <th>General Index</th>\n",
       "      <th>NAV</th>\n",
       "      <th>P/E Ratio</th>\n",
       "      <th>Volumes Traded</th>\n",
       "      <th>Inventory Turnover</th>\n",
       "      <th>Covid Impact (Beta)</th>\n",
       "      <th>Tracking Error</th>\n",
       "      <th>Dollar Exchange Rate</th>\n",
       "      <th>Put-Call Ratio</th>\n",
       "      <th>P/B Ratio</th>\n",
       "      <th>Stock Price</th>\n",
       "    </tr>\n",
       "  </thead>\n",
       "  <tbody>\n",
       "    <tr>\n",
       "      <td>0</td>\n",
       "      <td>AA1</td>\n",
       "      <td>NYSE</td>\n",
       "      <td>Real Estate</td>\n",
       "      <td>700.29</td>\n",
       "      <td>12765.84</td>\n",
       "      <td>32.38</td>\n",
       "      <td>45.35</td>\n",
       "      <td>1208599.0</td>\n",
       "      <td>5.05</td>\n",
       "      <td>-0.43</td>\n",
       "      <td>0.0520</td>\n",
       "      <td>1.0</td>\n",
       "      <td>0.61</td>\n",
       "      <td>9.20</td>\n",
       "      <td>156.987851</td>\n",
       "    </tr>\n",
       "    <tr>\n",
       "      <td>1</td>\n",
       "      <td>AA2</td>\n",
       "      <td>NYSE</td>\n",
       "      <td>Information Tech</td>\n",
       "      <td>214.52</td>\n",
       "      <td>12765.84</td>\n",
       "      <td>33.25</td>\n",
       "      <td>170.56</td>\n",
       "      <td>13753356.0</td>\n",
       "      <td>3.10</td>\n",
       "      <td>0.23</td>\n",
       "      <td>0.0164</td>\n",
       "      <td>1.0</td>\n",
       "      <td>NaN</td>\n",
       "      <td>6.91</td>\n",
       "      <td>560.859622</td>\n",
       "    </tr>\n",
       "    <tr>\n",
       "      <td>2</td>\n",
       "      <td>AA3</td>\n",
       "      <td>NYSE</td>\n",
       "      <td>Information Tech</td>\n",
       "      <td>943.42</td>\n",
       "      <td>12765.84</td>\n",
       "      <td>88.27</td>\n",
       "      <td>143.58</td>\n",
       "      <td>6892003.0</td>\n",
       "      <td>7.70</td>\n",
       "      <td>0.23</td>\n",
       "      <td>0.0396</td>\n",
       "      <td>1.0</td>\n",
       "      <td>NaN</td>\n",
       "      <td>6.09</td>\n",
       "      <td>1279.732874</td>\n",
       "    </tr>\n",
       "    <tr>\n",
       "      <td>3</td>\n",
       "      <td>AA4</td>\n",
       "      <td>BSE</td>\n",
       "      <td>Materials</td>\n",
       "      <td>828.13</td>\n",
       "      <td>38182.08</td>\n",
       "      <td>73.66</td>\n",
       "      <td>151.76</td>\n",
       "      <td>8316793.0</td>\n",
       "      <td>4.80</td>\n",
       "      <td>0.03</td>\n",
       "      <td>0.0431</td>\n",
       "      <td>74.9</td>\n",
       "      <td>1.11</td>\n",
       "      <td>5.60</td>\n",
       "      <td>1121.787632</td>\n",
       "    </tr>\n",
       "    <tr>\n",
       "      <td>4</td>\n",
       "      <td>AA5</td>\n",
       "      <td>S&amp;P 500</td>\n",
       "      <td>Real Estate</td>\n",
       "      <td>NaN</td>\n",
       "      <td>3351.28</td>\n",
       "      <td>23.79</td>\n",
       "      <td>NaN</td>\n",
       "      <td>3943312.0</td>\n",
       "      <td>8.06</td>\n",
       "      <td>-0.43</td>\n",
       "      <td>0.0244</td>\n",
       "      <td>1.0</td>\n",
       "      <td>1.07</td>\n",
       "      <td>9.46</td>\n",
       "      <td>382.962534</td>\n",
       "    </tr>\n",
       "  </tbody>\n",
       "</table>\n",
       "</div>"
      ],
      "text/plain": [
       "  Stock Index    Index          Industry    VWAP  General Index    NAV  \\\n",
       "0         AA1     NYSE       Real Estate  700.29       12765.84  32.38   \n",
       "1         AA2     NYSE  Information Tech  214.52       12765.84  33.25   \n",
       "2         AA3     NYSE  Information Tech  943.42       12765.84  88.27   \n",
       "3         AA4      BSE         Materials  828.13       38182.08  73.66   \n",
       "4         AA5  S&P 500       Real Estate     NaN        3351.28  23.79   \n",
       "\n",
       "   P/E Ratio  Volumes Traded  Inventory Turnover  Covid Impact (Beta)  \\\n",
       "0      45.35       1208599.0                5.05                -0.43   \n",
       "1     170.56      13753356.0                3.10                 0.23   \n",
       "2     143.58       6892003.0                7.70                 0.23   \n",
       "3     151.76       8316793.0                4.80                 0.03   \n",
       "4        NaN       3943312.0                8.06                -0.43   \n",
       "\n",
       "   Tracking Error  Dollar Exchange Rate  Put-Call Ratio  P/B Ratio  \\\n",
       "0          0.0520                   1.0            0.61       9.20   \n",
       "1          0.0164                   1.0             NaN       6.91   \n",
       "2          0.0396                   1.0             NaN       6.09   \n",
       "3          0.0431                  74.9            1.11       5.60   \n",
       "4          0.0244                   1.0            1.07       9.46   \n",
       "\n",
       "   Stock Price  \n",
       "0   156.987851  \n",
       "1   560.859622  \n",
       "2  1279.732874  \n",
       "3  1121.787632  \n",
       "4   382.962534  "
      ]
     },
     "execution_count": 3,
     "metadata": {},
     "output_type": "execute_result"
    }
   ],
   "source": [
    "df.head()"
   ]
  },
  {
   "cell_type": "code",
   "execution_count": 4,
   "metadata": {
    "scrolled": true
   },
   "outputs": [
    {
     "data": {
      "text/plain": [
       "Index(['Stock Index', 'Index', 'Industry', 'VWAP', 'General Index', 'NAV',\n",
       "       'P/E Ratio', 'Volumes Traded', 'Inventory Turnover',\n",
       "       'Covid Impact (Beta)', 'Tracking Error', 'Dollar Exchange Rate',\n",
       "       'Put-Call Ratio', 'P/B Ratio', 'Stock Price'],\n",
       "      dtype='object')"
      ]
     },
     "execution_count": 4,
     "metadata": {},
     "output_type": "execute_result"
    }
   ],
   "source": [
    "#importing the test dataset\n",
    "df_test = pd.read_csv(\"C:/Users/madhumitha/Downloads/TestDatasetStockPrice.csv\")\n",
    "df.columns"
   ]
  },
  {
   "cell_type": "code",
   "execution_count": 5,
   "metadata": {},
   "outputs": [
    {
     "data": {
      "text/plain": [
       "Stock Index               0\n",
       "Index                     0\n",
       "Industry                  0\n",
       "VWAP                     38\n",
       "General Index            62\n",
       "NAV                      61\n",
       "P/E Ratio               234\n",
       "Volumes Traded          268\n",
       "Inventory Turnover      399\n",
       "Covid Impact (Beta)     376\n",
       "Tracking Error           71\n",
       "Dollar Exchange Rate     77\n",
       "Put-Call Ratio           85\n",
       "P/B Ratio                25\n",
       "Stock Price               0\n",
       "dtype: int64"
      ]
     },
     "execution_count": 5,
     "metadata": {},
     "output_type": "execute_result"
    }
   ],
   "source": [
    "#checking for null values\n",
    "df.isnull().sum()"
   ]
  },
  {
   "cell_type": "code",
   "execution_count": 6,
   "metadata": {
    "scrolled": true
   },
   "outputs": [
    {
     "data": {
      "text/plain": [
       "<matplotlib.axes._subplots.AxesSubplot at 0x1855bdd9ec8>"
      ]
     },
     "execution_count": 6,
     "metadata": {},
     "output_type": "execute_result"
    },
    {
     "data": {
      "image/png": "[encoded data removed]",
      "text/plain": [
       "<Figure size 432x288 with 2 Axes>"
      ]
     },
     "metadata": {
      "needs_background": "light"
     },
     "output_type": "display_data"
    }
   ],
   "source": [
    "#checking the correlation \n",
    "corr_df=df.corr()\n",
    "corr_df\n",
    "sns.heatmap(corr_df)"
   ]
  },
  {
   "cell_type": "code",
   "execution_count": 7,
   "metadata": {},
   "outputs": [],
   "source": [
    "#imputing null values\n",
    "df[\"Inventory Turnover\"].fillna(df[\"Inventory Turnover\"].mean(), inplace=True)\n",
    "df[\"Covid Impact (Beta)\"].fillna(df[\"Covid Impact (Beta)\"].mean(), inplace=True)"
   ]
  },
  {
   "cell_type": "code",
   "execution_count": 8,
   "metadata": {},
   "outputs": [],
   "source": [
    "#final cleaning of training data\n",
    "df= df.dropna()\n",
    "df = df.replace([np.inf, -np.inf], np.nan)\n",
    "df = df.dropna()"
   ]
  },
  {
   "cell_type": "code",
   "execution_count": 9,
   "metadata": {},
   "outputs": [],
   "source": [
    "#cleaning test data\n",
    "df_test = df_test.dropna()\n",
    "df_test = df_test.replace([np.inf, -np.inf], np.nan)\n",
    "df_test = df_test.dropna()"
   ]
  },
  {
   "cell_type": "code",
   "execution_count": 10,
   "metadata": {},
   "outputs": [
    {
     "name": "stdout",
     "output_type": "stream",
     "text": [
      "(2415, 11)\n"
     ]
    }
   ],
   "source": [
    "#featurisation of test data\n",
    "x_actual_test = df_test[['VWAP', 'General Index', 'NAV',\n",
    "       'P/E Ratio', 'Volumes Traded', 'Inventory Turnover',\n",
    "       'Covid Impact (Beta)', 'Tracking Error', 'Dollar Exchange Rate',\n",
    "       'Put-Call Ratio', 'P/B Ratio']]\n",
    "#np.reshape(y,2103,1)\n",
    "print(x_actual_test.shape)"
   ]
  },
  {
   "cell_type": "code",
   "execution_count": 11,
   "metadata": {},
   "outputs": [],
   "source": [
    "#importing libraries\n",
    "from sklearn.model_selection import train_test_split\n",
    "from sklearn.linear_model import LinearRegression\n",
    "from sklearn import metrics\n",
    "from sklearn.metrics import mean_squared_error\n",
    "from sklearn.metrics import r2_score\n",
    "import yellowbrick \n"
   ]
  },
  {
   "cell_type": "code",
   "execution_count": 12,
   "metadata": {},
   "outputs": [
    {
     "name": "stdout",
     "output_type": "stream",
     "text": [
      "(6896, 11)\n",
      "(6896,)\n"
     ]
    }
   ],
   "source": [
    "#featurisation\n",
    "x = df[['VWAP', 'General Index', 'NAV',\n",
    "       'P/E Ratio', 'Volumes Traded', 'Inventory Turnover',\n",
    "       'Covid Impact (Beta)', 'Tracking Error', 'Dollar Exchange Rate',\n",
    "       'Put-Call Ratio', 'P/B Ratio']]\n",
    "y = df['Stock Price']\n",
    "#np.reshape(y,2103,1)\n",
    "print(x.shape)\n",
    "print(y.shape)"
   ]
  },
  {
   "cell_type": "code",
   "execution_count": 13,
   "metadata": {},
   "outputs": [
    {
     "name": "stdout",
     "output_type": "stream",
     "text": [
      "RMSE : 135.9793517133136\n",
      "R^2 : 0.8949651019079787\n"
     ]
    }
   ],
   "source": [
    "#training and evaluating the model with VALIDATION SPLIT OF 25%\n",
    "x_train,x_test,y_train,y_test = train_test_split(x,y,test_size = 0.25,random_state = 1)\n",
    "model_linear = LinearRegression()\n",
    "model_linear.fit(x_train,y_train)\n",
    "y_pred = model_linear.predict(x_test)\n",
    "print(\"RMSE :\",np.sqrt(mean_squared_error(y_test,y_pred)))\n",
    "print(\"R^2 :\" , r2_score(y_test,y_pred))"
   ]
  },
  {
   "cell_type": "code",
   "execution_count": 14,
   "metadata": {},
   "outputs": [
    {
     "data": {
      "image/png": "[encoded data removed]",
      "text/plain": [
       "<Figure size 576x396 with 1 Axes>"
      ]
     },
     "metadata": {},
     "output_type": "display_data"
    }
   ],
   "source": [
    "from yellowbrick.regressor import PredictionError, ResidualsPlot\n",
    "visualizer = PredictionError(model_linear)\n",
    "\n",
    "visualizer.fit(x_train, y_train)  # Fit the training data to the visualizer\n",
    "visualizer.score(x_test, y_test)  # Evaluate the model on the test data\n",
    "visualizer.poof();"
   ]
  },
  {
   "cell_type": "code",
   "execution_count": 15,
   "metadata": {},
   "outputs": [],
   "source": [
    "#LINEAR REGRESSION PREDICTION\n",
    "y_linear_actual_pred = model_linear.predict(x_actual_test)"
   ]
  },
  {
   "cell_type": "code",
   "execution_count": 16,
   "metadata": {},
   "outputs": [
    {
     "data": {
      "text/plain": [
       "array([ 868.43696171,  409.38193875, 1306.00525176, ...,  187.44488658,\n",
       "        590.00971216, 1152.85488119])"
      ]
     },
     "execution_count": 16,
     "metadata": {},
     "output_type": "execute_result"
    }
   ],
   "source": [
    "y_linear_actual_pred"
   ]
  },
  {
   "cell_type": "code",
   "execution_count": 17,
   "metadata": {
    "scrolled": false
   },
   "outputs": [
    {
     "name": "stdout",
     "output_type": "stream",
     "text": [
      "RMSE: 3.4455789994914623\n",
      "R^2: 0.9999325608466643\n"
     ]
    },
    {
     "data": {
      "image/png": "[encoded data removed]",
      "text/plain": [
       "<Figure size 576x396 with 1 Axes>"
      ]
     },
     "metadata": {},
     "output_type": "display_data"
    }
   ],
   "source": [
    "#SINCE THE POLYNOMIAL REGRESSION OF ORDER 2 GIVES A BETTER ACCURACY , WE TAKE THAT MODEL INTO ACCOUNT\n",
    "x_train,x_test,y_train,y_test = train_test_split(x,y,test_size = 0.25,random_state =1)\n",
    "from sklearn.preprocessing import PolynomialFeatures\n",
    "poly_reg = PolynomialFeatures(degree=2)\n",
    "x_poly_train = poly_reg.fit_transform(x_train)\n",
    "model = LinearRegression()\n",
    "model.fit(x_poly_train, y_train)\n",
    "\n",
    "\n",
    "x_poly_test = poly_reg.fit_transform(x_test)\n",
    "y_poly_pred = model.predict((x_poly_test))\n",
    "print(\"RMSE:\",np.sqrt(mean_squared_error(y_test,y_poly_pred)))\n",
    "print(\"R^2:\",r2_score(y_test,y_poly_pred))\n",
    "\n",
    "# Visualizing the Polymonial Regression results\n",
    "def viz_polynomial():\n",
    "    plt.plot(x_test, y_test, color='red')\n",
    "    plt.plot(x_poly_test, y_poly_pred, color='blue')\n",
    "    plt.title('Truth or Bluff (Linear Regression)')\n",
    "    plt.xlabel('input')\n",
    "    plt.ylabel('energy')\n",
    "    plt.show()\n",
    "    return\n",
    "\n",
    "viz_polynomial() "
   ]
  },
  {
   "cell_type": "code",
   "execution_count": 18,
   "metadata": {},
   "outputs": [],
   "source": [
    "df_test = df_test.dropna()\n",
    "df_test = df_test.replace([np.inf, -np.inf], np.nan)\n",
    "df_test = df_test.dropna()"
   ]
  },
  {
   "cell_type": "code",
   "execution_count": 19,
   "metadata": {},
   "outputs": [
    {
     "name": "stdout",
     "output_type": "stream",
     "text": [
      "(2415, 11)\n"
     ]
    }
   ],
   "source": [
    "#featurisation\n",
    "x_actual_test = df_test[['VWAP', 'General Index', 'NAV',\n",
    "       'P/E Ratio', 'Volumes Traded', 'Inventory Turnover',\n",
    "       'Covid Impact (Beta)', 'Tracking Error', 'Dollar Exchange Rate',\n",
    "       'Put-Call Ratio', 'P/B Ratio']]\n",
    "#np.reshape(y,2103,1)\n",
    "print(x_actual_test.shape)"
   ]
  },
  {
   "cell_type": "code",
   "execution_count": 20,
   "metadata": {},
   "outputs": [],
   "source": [
    "#POLYNOMIAL REGRESSION PREDICTION\n",
    "x_poly_actual_test = poly_reg.fit_transform(x_actual_test)\n",
    "y_poly_actual_pred= model.predict((x_poly_actual_test))"
   ]
  },
  {
   "cell_type": "code",
   "execution_count": 21,
   "metadata": {
    "scrolled": true
   },
   "outputs": [
    {
     "name": "stdout",
     "output_type": "stream",
     "text": [
      "[ 810.59940121  257.95263391 1555.03857677 ...  136.50116662  348.52270827\n",
      " 1304.86596024]\n"
     ]
    }
   ],
   "source": [
    "print(y_poly_actual_pred)"
   ]
  },
  {
   "cell_type": "code",
   "execution_count": 22,
   "metadata": {},
   "outputs": [],
   "source": [
    "result = pd.DataFrame(y_poly_actual_pred)"
   ]
  },
  {
   "cell_type": "code",
   "execution_count": 23,
   "metadata": {},
   "outputs": [
    {
     "data": {
      "text/html": [
       "<div>\n",
       "<style scoped>\n",
       "    .dataframe tbody tr th:only-of-type {\n",
       "        vertical-align: middle;\n",
       "    }\n",
       "\n",
       "    .dataframe tbody tr th {\n",
       "        vertical-align: top;\n",
       "    }\n",
       "\n",
       "    .dataframe thead th {\n",
       "        text-align: right;\n",
       "    }\n",
       "</style>\n",
       "<table border=\"1\" class=\"dataframe\">\n",
       "  <thead>\n",
       "    <tr style=\"text-align: right;\">\n",
       "      <th></th>\n",
       "      <th>0</th>\n",
       "    </tr>\n",
       "    <tr>\n",
       "      <th>Stock Index</th>\n",
       "      <th></th>\n",
       "    </tr>\n",
       "  </thead>\n",
       "  <tbody>\n",
       "    <tr>\n",
       "      <td>AC3235</td>\n",
       "      <td>810.599401</td>\n",
       "    </tr>\n",
       "    <tr>\n",
       "      <td>AC3236</td>\n",
       "      <td>257.952634</td>\n",
       "    </tr>\n",
       "    <tr>\n",
       "      <td>AC3237</td>\n",
       "      <td>1555.038577</td>\n",
       "    </tr>\n",
       "    <tr>\n",
       "      <td>AC3238</td>\n",
       "      <td>832.490474</td>\n",
       "    </tr>\n",
       "    <tr>\n",
       "      <td>AC3241</td>\n",
       "      <td>725.215907</td>\n",
       "    </tr>\n",
       "    <tr>\n",
       "      <td>...</td>\n",
       "      <td>...</td>\n",
       "    </tr>\n",
       "    <tr>\n",
       "      <td>AD2732</td>\n",
       "      <td>68.897417</td>\n",
       "    </tr>\n",
       "    <tr>\n",
       "      <td>AD2733</td>\n",
       "      <td>1125.147853</td>\n",
       "    </tr>\n",
       "    <tr>\n",
       "      <td>AD2734</td>\n",
       "      <td>136.501167</td>\n",
       "    </tr>\n",
       "    <tr>\n",
       "      <td>AD2737</td>\n",
       "      <td>348.522708</td>\n",
       "    </tr>\n",
       "    <tr>\n",
       "      <td>AD2738</td>\n",
       "      <td>1304.865960</td>\n",
       "    </tr>\n",
       "  </tbody>\n",
       "</table>\n",
       "<p>2415 rows × 1 columns</p>\n",
       "</div>"
      ],
      "text/plain": [
       "                       0\n",
       "Stock Index             \n",
       "AC3235        810.599401\n",
       "AC3236        257.952634\n",
       "AC3237       1555.038577\n",
       "AC3238        832.490474\n",
       "AC3241        725.215907\n",
       "...                  ...\n",
       "AD2732         68.897417\n",
       "AD2733       1125.147853\n",
       "AD2734        136.501167\n",
       "AD2737        348.522708\n",
       "AD2738       1304.865960\n",
       "\n",
       "[2415 rows x 1 columns]"
      ]
     },
     "execution_count": 23,
     "metadata": {},
     "output_type": "execute_result"
    }
   ],
   "source": [
    "#having the values inside a dataframe\n",
    "result.index = df_test['Stock Index'] \n",
    "result"
   ]
  },
  {
   "cell_type": "code",
   "execution_count": null,
   "metadata": {},
   "outputs": [],
   "source": [
    " #I have taken the polynomial prediction for prediction for better accuracy"
   ]
  },
  {
   "cell_type": "code",
   "execution_count": null,
   "metadata": {},
   "outputs": [],
   "source": [
    "#converting the dataframe values to a csv file \n",
    "result1.to_csv('flipr_pred_of_stockprices.csv')"
   ]
  }
 ],
 "metadata": {
  "kernelspec": {
   "display_name": "Python 3",
   "language": "python",
   "name": "python3"
  },
  "language_info": {
   "codemirror_mode": {
    "name": "ipython",
    "version": 3
   },
   "file_extension": ".py",
   "mimetype": "text/x-python",
   "name": "python",
   "nbconvert_exporter": "python",
   "pygments_lexer": "ipython3",
   "version": "3.7.4"
  }
 },
 "nbformat": 4,
 "nbformat_minor": 2
}
